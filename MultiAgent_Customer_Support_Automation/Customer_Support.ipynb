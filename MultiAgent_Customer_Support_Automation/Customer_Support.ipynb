{
 "cells": [
  {
   "cell_type": "code",
   "execution_count": 1,
   "id": "17082e00",
   "metadata": {},
   "outputs": [],
   "source": [
    "import warnings\n",
    "warnings.filterwarnings('ignore')"
   ]
  },
  {
   "cell_type": "code",
   "execution_count": 7,
   "id": "1fbfe6ef",
   "metadata": {},
   "outputs": [],
   "source": [
    "from crewai import Agent, Crew, Task, LLM\n",
    "import os\n",
    "from dotenv import load_dotenv\n",
    "load_dotenv()\n",
    "\n",
    "# Mistral LLM Setup\n",
    "llm = LLM(\n",
    "    model=\"mistral/mistral-small-latest\",\n",
    "    api_key=os.getenv(\"MISTRAL_API_KEY\")\n",
    ")"
   ]
  },
  {
   "cell_type": "markdown",
   "id": "8285bd7b",
   "metadata": {},
   "source": [
    "## Role Playing, Focus and Cooperation"
   ]
  },
  {
   "cell_type": "code",
   "execution_count": 4,
   "id": "bd888584",
   "metadata": {},
   "outputs": [],
   "source": [
    "support_agent = Agent(\n",
    "    role = 'Senior Support Representative',\n",
    "    goal = \"Be the most helpful and knowledgeable support agent in the team.\",\n",
    "    backstory= (\n",
    "\t\t\"You work at crewAI (https://crewai.com) and \"\n",
    "        \" are now working on providing \"\n",
    "\t\t\"support to {customer}, a super important customer \"\n",
    "        \" for your company.\"\n",
    "\t\t\"You need to make sure that you provide the best support!\"\n",
    "\t\t\"Make sure to provide full complete answers, \"\n",
    "        \" and make no assumptions.\"\n",
    "    ),\n",
    "    instructions=(\n",
    "        \"You may ONLY use the tools provided. \"\n",
    "        \"Do NOT attempt to call tools that are not listed in your toolset. \"\n",
    "        \"There is NO 'add_image' tool. Focus on using 'ScrapeWebsiteTool' only. \"\n",
    "        \"If unsure, explain it with text — do NOT invent tools.\"\n",
    "    ),\n",
    "    allow_delegation=False,\n",
    "    verbose = True,\n",
    "    llm = llm\n",
    ")"
   ]
  },
  {
   "cell_type": "markdown",
   "id": "0606cd15",
   "metadata": {},
   "source": [
    "- By default the allow_delegation has value as True which allows the agents to delegate work to the agent which is best suitated for the task."
   ]
  },
  {
   "cell_type": "code",
   "execution_count": 109,
   "id": "ac839df3",
   "metadata": {},
   "outputs": [],
   "source": [
    "support_quality_assurance_agent = Agent(\n",
    "\trole=\"Support Quality Assurance Specialist\",\n",
    "\tgoal=\"Get recognition for providing the \"\n",
    "    \"best support quality assurance in your team\",\n",
    "\tbackstory=(\n",
    "\t\t\"You work at crewAI (https://crewai.com) and \"\n",
    "        \"are now working with your team \"\n",
    "\t\t\"on a request from {customer} ensuring that \"\n",
    "        \"the support representative is \"\n",
    "\t\t\"providing the best support possible.\\n\"\n",
    "\t\t\"You need to make sure that the support representative \"\n",
    "        \"is providing full\"\n",
    "\t\t\"complete answers, and make no assumptions.\"\n",
    "\t),\n",
    "\tverbose=True,\n",
    "    allow_delegation= True,\n",
    "    llm = llm\n",
    ")"
   ]
  },
  {
   "cell_type": "markdown",
   "id": "10a4a310",
   "metadata": {},
   "source": [
    "## Tools, Guardrails and Memory\n",
    "\n",
    "### Tools"
   ]
  },
  {
   "cell_type": "markdown",
   "id": "f6dfd6f6",
   "metadata": {},
   "source": [
    "- Some ways of using CrewAI tools.\n",
    "\n",
    "```Python\n",
    "search_tool = SerperDevTool()  # Detect every link that it sees\n",
    "scrape_tool = ScrapeWebsiteTool() # Detect only the particualr link"
   ]
  },
  {
   "cell_type": "code",
   "execution_count": 110,
   "id": "f35de4c3",
   "metadata": {},
   "outputs": [],
   "source": [
    "# in custom_tools.py\n",
    "from crewai_tools.tools.scrape_website_tool.scrape_website_tool import ScrapeWebsiteTool\n",
    "from crewai_tools.tools.serper_dev_tool.serper_dev_tool import SerperDevTool\n",
    "from crewai_tools.tools.website_search.website_search_tool import WebsiteSearchTool\n"
   ]
  },
  {
   "cell_type": "code",
   "execution_count": 111,
   "id": "aa12a230",
   "metadata": {},
   "outputs": [],
   "source": [
    "docs_scrape_tool = ScrapeWebsiteTool(\n",
    "    website_url=\"https://docs.crewai.com/how-to/Creating-a-Crew-and-kick-it-off/\"\n",
    ")"
   ]
  },
  {
   "cell_type": "markdown",
   "id": "f2533b20",
   "metadata": {},
   "source": [
    "### Creating Tasks\n",
    "- You are passing the Tool on the Task Level."
   ]
  },
  {
   "cell_type": "code",
   "execution_count": 112,
   "id": "efd3e2c3",
   "metadata": {},
   "outputs": [],
   "source": [
    "inquiry_resolution = Task(\n",
    "    description=(\n",
    "        \"{customer} just reached out with a super important ask:\\n\"\n",
    "        \"{inquiry}\\n\\n\"\n",
    "        \"{person} from {customer} is the one that reached out. \"\n",
    "        \"You **MUST** use only the ScrapeWebsiteTool provided. \"\n",
    "        \"Do NOT invent or use any tool that is not explicitly provided. \"\n",
    "        \"There is NO 'add_image' tool available. \"\n",
    "        \"You are expected to respond ONLY using valid tools or text output.\"\n",
    "    ),\n",
    "    expected_output=(\n",
    "\t    \"A detailed, informative response to the \"\n",
    "        \"customer's inquiry that addresses \"\n",
    "        \"all aspects of their question.\\n\"\n",
    "        \"The response should include references \"\n",
    "        \"to everything you used to find the answer, \"\n",
    "        \"including external data or solutions. \"\n",
    "        \"Ensure the answer is complete, \"\n",
    "\t\t\"leaving no questions unanswered, and maintain a helpful and friendly \"\n",
    "\t\t\"tone throughout.\"\n",
    "    ),\n",
    "\ttools=[docs_scrape_tool],\n",
    "    agent=support_agent,\n",
    ")"
   ]
  },
  {
   "cell_type": "markdown",
   "id": "2b99799c",
   "metadata": {},
   "source": [
    "- `quality_assurance_review` is not using any Tool(s)\n",
    "- Here the QA Agent will only review the work of the Support Agent"
   ]
  },
  {
   "cell_type": "code",
   "execution_count": 113,
   "id": "afd20e70",
   "metadata": {},
   "outputs": [],
   "source": [
    "quality_assurance_review = Task(\n",
    "    description=(\n",
    "        \"Review the response drafted by the Senior Support Representative for {customer}'s inquiry. \"\n",
    "        \"Ensure that the answer is comprehensive, accurate, and adheres to the \"\n",
    "\t\t\"high-quality standards expected for customer support.\\n\"\n",
    "        \"Verify that all parts of the customer's inquiry \"\n",
    "        \"have been addressed \"\n",
    "\t\t\"thoroughly, with a helpful and friendly tone.\\n\"\n",
    "        \"Check for references and sources used to \"\n",
    "        \" find the information, \"\n",
    "\t\t\"ensuring the response is well-supported and \"\n",
    "        \"leaves no questions unanswered.\"\n",
    "    ),\n",
    "    expected_output=(\n",
    "        \"A final, detailed, and informative response \"\n",
    "        \"ready to be sent to the customer.\\n\"\n",
    "        \"This response should fully address the \"\n",
    "        \"customer's inquiry, incorporating all \"\n",
    "\t\t\"relevant feedback and improvements.\\n\"\n",
    "\t\t\"Don't be too formal, we are a chill and cool company \"\n",
    "\t    \"but maintain a professional and friendly tone throughout.\"\n",
    "    ),\n",
    "    agent=support_quality_assurance_agent,\n",
    ")"
   ]
  },
  {
   "cell_type": "markdown",
   "id": "2b38e196",
   "metadata": {},
   "source": [
    "### Creating the Crew\n",
    "\n",
    "#### Memory\n",
    "- Setting `memory=True` when putting the crew together enables Memory."
   ]
  },
  {
   "cell_type": "code",
   "execution_count": 114,
   "id": "cf21c061",
   "metadata": {},
   "outputs": [],
   "source": [
    "crew = Crew(\n",
    "    agents = [support_agent, support_quality_assurance_agent],\n",
    "    tasks = [inquiry_resolution, quality_assurance_review],\n",
    "    verbose = True,\n",
    "    memory = False\n",
    ")"
   ]
  },
  {
   "cell_type": "code",
   "execution_count": null,
   "id": "46ca0509",
   "metadata": {},
   "outputs": [],
   "source": [
    "inputs = {\n",
    "    \"customer\": \"DeepLearningAI\",\n",
    "    \"person\": \"Andrew Ng\",\n",
    "    \"inquiry\": \"I need help with setting up a Crew \"\n",
    "               \"and kicking it off, specifically \"\n",
    "               \"how can I add memory to my crew? \"\n",
    "               \"Can you provide guidance?\"\n",
    "}\n",
    "result = crew.kickoff(inputs=inputs)"
   ]
  },
  {
   "cell_type": "code",
   "execution_count": null,
   "id": "77d452ae",
   "metadata": {},
   "outputs": [],
   "source": [
    "from IPython.display import Markdown\n",
    "Markdown(result)"
   ]
  },
  {
   "cell_type": "code",
   "execution_count": null,
   "id": "3d03e601",
   "metadata": {},
   "outputs": [],
   "source": []
  },
  {
   "cell_type": "code",
   "execution_count": null,
   "id": "2d0aff1a",
   "metadata": {},
   "outputs": [],
   "source": []
  },
  {
   "cell_type": "code",
   "execution_count": null,
   "id": "64cd763c",
   "metadata": {},
   "outputs": [],
   "source": []
  }
 ],
 "metadata": {
  "kernelspec": {
   "display_name": "base",
   "language": "python",
   "name": "python3"
  },
  "language_info": {
   "codemirror_mode": {
    "name": "ipython",
    "version": 3
   },
   "file_extension": ".py",
   "mimetype": "text/x-python",
   "name": "python",
   "nbconvert_exporter": "python",
   "pygments_lexer": "ipython3",
   "version": "3.12.7"
  }
 },
 "nbformat": 4,
 "nbformat_minor": 5
}
